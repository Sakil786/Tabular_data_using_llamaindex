{
  "nbformat": 4,
  "nbformat_minor": 0,
  "metadata": {
    "colab": {
      "provenance": [],
      "gpuType": "T4"
    },
    "kernelspec": {
      "name": "python3",
      "display_name": "Python 3"
    },
    "language_info": {
      "name": "python"
    },
    "accelerator": "GPU",
    "widgets": {
      "application/vnd.jupyter.widget-state+json": {
        "7495bcf43b794b13a84c840d4156d169": {
          "model_module": "@jupyter-widgets/controls",
          "model_name": "HBoxModel",
          "model_module_version": "1.5.0",
          "state": {
            "_dom_classes": [],
            "_model_module": "@jupyter-widgets/controls",
            "_model_module_version": "1.5.0",
            "_model_name": "HBoxModel",
            "_view_count": null,
            "_view_module": "@jupyter-widgets/controls",
            "_view_module_version": "1.5.0",
            "_view_name": "HBoxView",
            "box_style": "",
            "children": [
              "IPY_MODEL_b51c6952dac04fe5837836e92576b85b",
              "IPY_MODEL_d4e906b7cbab44459651c8f37700daff",
              "IPY_MODEL_268f6080619f4f20b4328cea6adaa4ea"
            ],
            "layout": "IPY_MODEL_f065947085d94312ac8eded8bacc2d47"
          }
        },
        "b51c6952dac04fe5837836e92576b85b": {
          "model_module": "@jupyter-widgets/controls",
          "model_name": "HTMLModel",
          "model_module_version": "1.5.0",
          "state": {
            "_dom_classes": [],
            "_model_module": "@jupyter-widgets/controls",
            "_model_module_version": "1.5.0",
            "_model_name": "HTMLModel",
            "_view_count": null,
            "_view_module": "@jupyter-widgets/controls",
            "_view_module_version": "1.5.0",
            "_view_name": "HTMLView",
            "description": "",
            "description_tooltip": null,
            "layout": "IPY_MODEL_7876386b7e344dc19a07f49c22f87b0b",
            "placeholder": "​",
            "style": "IPY_MODEL_ca4cec2e8e26477eb478bcb5356a2aac",
            "value": "Loading checkpoint shards: 100%"
          }
        },
        "d4e906b7cbab44459651c8f37700daff": {
          "model_module": "@jupyter-widgets/controls",
          "model_name": "FloatProgressModel",
          "model_module_version": "1.5.0",
          "state": {
            "_dom_classes": [],
            "_model_module": "@jupyter-widgets/controls",
            "_model_module_version": "1.5.0",
            "_model_name": "FloatProgressModel",
            "_view_count": null,
            "_view_module": "@jupyter-widgets/controls",
            "_view_module_version": "1.5.0",
            "_view_name": "ProgressView",
            "bar_style": "success",
            "description": "",
            "description_tooltip": null,
            "layout": "IPY_MODEL_848c04ae9f3e48a09a39a59fb3bea5e3",
            "max": 2,
            "min": 0,
            "orientation": "horizontal",
            "style": "IPY_MODEL_c33ba65881f2448481bdd14fef775265",
            "value": 2
          }
        },
        "268f6080619f4f20b4328cea6adaa4ea": {
          "model_module": "@jupyter-widgets/controls",
          "model_name": "HTMLModel",
          "model_module_version": "1.5.0",
          "state": {
            "_dom_classes": [],
            "_model_module": "@jupyter-widgets/controls",
            "_model_module_version": "1.5.0",
            "_model_name": "HTMLModel",
            "_view_count": null,
            "_view_module": "@jupyter-widgets/controls",
            "_view_module_version": "1.5.0",
            "_view_name": "HTMLView",
            "description": "",
            "description_tooltip": null,
            "layout": "IPY_MODEL_dba6efbf69da427886e6ed02077cb5ce",
            "placeholder": "​",
            "style": "IPY_MODEL_31c0a184a75549ecae9dc23c6dfe3272",
            "value": " 2/2 [01:04&lt;00:00, 29.53s/it]"
          }
        },
        "f065947085d94312ac8eded8bacc2d47": {
          "model_module": "@jupyter-widgets/base",
          "model_name": "LayoutModel",
          "model_module_version": "1.2.0",
          "state": {
            "_model_module": "@jupyter-widgets/base",
            "_model_module_version": "1.2.0",
            "_model_name": "LayoutModel",
            "_view_count": null,
            "_view_module": "@jupyter-widgets/base",
            "_view_module_version": "1.2.0",
            "_view_name": "LayoutView",
            "align_content": null,
            "align_items": null,
            "align_self": null,
            "border": null,
            "bottom": null,
            "display": null,
            "flex": null,
            "flex_flow": null,
            "grid_area": null,
            "grid_auto_columns": null,
            "grid_auto_flow": null,
            "grid_auto_rows": null,
            "grid_column": null,
            "grid_gap": null,
            "grid_row": null,
            "grid_template_areas": null,
            "grid_template_columns": null,
            "grid_template_rows": null,
            "height": null,
            "justify_content": null,
            "justify_items": null,
            "left": null,
            "margin": null,
            "max_height": null,
            "max_width": null,
            "min_height": null,
            "min_width": null,
            "object_fit": null,
            "object_position": null,
            "order": null,
            "overflow": null,
            "overflow_x": null,
            "overflow_y": null,
            "padding": null,
            "right": null,
            "top": null,
            "visibility": null,
            "width": null
          }
        },
        "7876386b7e344dc19a07f49c22f87b0b": {
          "model_module": "@jupyter-widgets/base",
          "model_name": "LayoutModel",
          "model_module_version": "1.2.0",
          "state": {
            "_model_module": "@jupyter-widgets/base",
            "_model_module_version": "1.2.0",
            "_model_name": "LayoutModel",
            "_view_count": null,
            "_view_module": "@jupyter-widgets/base",
            "_view_module_version": "1.2.0",
            "_view_name": "LayoutView",
            "align_content": null,
            "align_items": null,
            "align_self": null,
            "border": null,
            "bottom": null,
            "display": null,
            "flex": null,
            "flex_flow": null,
            "grid_area": null,
            "grid_auto_columns": null,
            "grid_auto_flow": null,
            "grid_auto_rows": null,
            "grid_column": null,
            "grid_gap": null,
            "grid_row": null,
            "grid_template_areas": null,
            "grid_template_columns": null,
            "grid_template_rows": null,
            "height": null,
            "justify_content": null,
            "justify_items": null,
            "left": null,
            "margin": null,
            "max_height": null,
            "max_width": null,
            "min_height": null,
            "min_width": null,
            "object_fit": null,
            "object_position": null,
            "order": null,
            "overflow": null,
            "overflow_x": null,
            "overflow_y": null,
            "padding": null,
            "right": null,
            "top": null,
            "visibility": null,
            "width": null
          }
        },
        "ca4cec2e8e26477eb478bcb5356a2aac": {
          "model_module": "@jupyter-widgets/controls",
          "model_name": "DescriptionStyleModel",
          "model_module_version": "1.5.0",
          "state": {
            "_model_module": "@jupyter-widgets/controls",
            "_model_module_version": "1.5.0",
            "_model_name": "DescriptionStyleModel",
            "_view_count": null,
            "_view_module": "@jupyter-widgets/base",
            "_view_module_version": "1.2.0",
            "_view_name": "StyleView",
            "description_width": ""
          }
        },
        "848c04ae9f3e48a09a39a59fb3bea5e3": {
          "model_module": "@jupyter-widgets/base",
          "model_name": "LayoutModel",
          "model_module_version": "1.2.0",
          "state": {
            "_model_module": "@jupyter-widgets/base",
            "_model_module_version": "1.2.0",
            "_model_name": "LayoutModel",
            "_view_count": null,
            "_view_module": "@jupyter-widgets/base",
            "_view_module_version": "1.2.0",
            "_view_name": "LayoutView",
            "align_content": null,
            "align_items": null,
            "align_self": null,
            "border": null,
            "bottom": null,
            "display": null,
            "flex": null,
            "flex_flow": null,
            "grid_area": null,
            "grid_auto_columns": null,
            "grid_auto_flow": null,
            "grid_auto_rows": null,
            "grid_column": null,
            "grid_gap": null,
            "grid_row": null,
            "grid_template_areas": null,
            "grid_template_columns": null,
            "grid_template_rows": null,
            "height": null,
            "justify_content": null,
            "justify_items": null,
            "left": null,
            "margin": null,
            "max_height": null,
            "max_width": null,
            "min_height": null,
            "min_width": null,
            "object_fit": null,
            "object_position": null,
            "order": null,
            "overflow": null,
            "overflow_x": null,
            "overflow_y": null,
            "padding": null,
            "right": null,
            "top": null,
            "visibility": null,
            "width": null
          }
        },
        "c33ba65881f2448481bdd14fef775265": {
          "model_module": "@jupyter-widgets/controls",
          "model_name": "ProgressStyleModel",
          "model_module_version": "1.5.0",
          "state": {
            "_model_module": "@jupyter-widgets/controls",
            "_model_module_version": "1.5.0",
            "_model_name": "ProgressStyleModel",
            "_view_count": null,
            "_view_module": "@jupyter-widgets/base",
            "_view_module_version": "1.2.0",
            "_view_name": "StyleView",
            "bar_color": null,
            "description_width": ""
          }
        },
        "dba6efbf69da427886e6ed02077cb5ce": {
          "model_module": "@jupyter-widgets/base",
          "model_name": "LayoutModel",
          "model_module_version": "1.2.0",
          "state": {
            "_model_module": "@jupyter-widgets/base",
            "_model_module_version": "1.2.0",
            "_model_name": "LayoutModel",
            "_view_count": null,
            "_view_module": "@jupyter-widgets/base",
            "_view_module_version": "1.2.0",
            "_view_name": "LayoutView",
            "align_content": null,
            "align_items": null,
            "align_self": null,
            "border": null,
            "bottom": null,
            "display": null,
            "flex": null,
            "flex_flow": null,
            "grid_area": null,
            "grid_auto_columns": null,
            "grid_auto_flow": null,
            "grid_auto_rows": null,
            "grid_column": null,
            "grid_gap": null,
            "grid_row": null,
            "grid_template_areas": null,
            "grid_template_columns": null,
            "grid_template_rows": null,
            "height": null,
            "justify_content": null,
            "justify_items": null,
            "left": null,
            "margin": null,
            "max_height": null,
            "max_width": null,
            "min_height": null,
            "min_width": null,
            "object_fit": null,
            "object_position": null,
            "order": null,
            "overflow": null,
            "overflow_x": null,
            "overflow_y": null,
            "padding": null,
            "right": null,
            "top": null,
            "visibility": null,
            "width": null
          }
        },
        "31c0a184a75549ecae9dc23c6dfe3272": {
          "model_module": "@jupyter-widgets/controls",
          "model_name": "DescriptionStyleModel",
          "model_module_version": "1.5.0",
          "state": {
            "_model_module": "@jupyter-widgets/controls",
            "_model_module_version": "1.5.0",
            "_model_name": "DescriptionStyleModel",
            "_view_count": null,
            "_view_module": "@jupyter-widgets/base",
            "_view_module_version": "1.2.0",
            "_view_name": "StyleView",
            "description_width": ""
          }
        }
      }
    }
  },
  "cells": [
    {
      "cell_type": "code",
      "execution_count": 2,
      "metadata": {
        "id": "ZfMWxbV9XmES"
      },
      "outputs": [],
      "source": [
        "# ! pip install langchain\n",
        "# ! pip install llama-index\n",
        "# ! pip installllama-hub\n",
        "# ! pip install accelerate\n",
        "# ! pip install bitsandbytes\n",
        "# ! pip install transformers\n",
        "# ! pip install sentence_transformers\n",
        "# ! pip install InstructorEmbedding\n",
        "# ! pip install chromadb\n",
        "# ! pip install streamlit"
      ]
    },
    {
      "cell_type": "code",
      "source": [
        "import streamlit as st\n",
        "from dotenv import load_dotenv\n",
        "import torch\n",
        "import sys\n",
        "import os\n",
        "from transformers import BitsAndBytesConfig\n",
        "\n",
        "# llama_index\n",
        "from langchain.embeddings import HuggingFaceInstructEmbeddings\n",
        "from llama_index import VectorStoreIndex, SimpleDirectoryReader, StorageContext, load_index_from_storage, ServiceContext\n",
        "from llama_index.retrievers import VectorIndexRetriever\n",
        "from llama_index.query_engine import RetrieverQueryEngine\n",
        "from llama_index.indices.postprocessor import SimilarityPostprocessor, KeywordNodePostprocessor\n",
        "from llama_index.response_synthesizers import get_response_synthesizer\n",
        "from llama_index.text_splitter import SentenceSplitter\n",
        "from llama_index.vector_stores import ChromaVectorStore\n",
        "from llama_index.storage.storage_context import StorageContext\n",
        "from llama_index.prompts import PromptTemplate\n",
        "from llama_index.llms import HuggingFaceLLM\n",
        "\n",
        "# chromadb\n",
        "import chromadb\n",
        "import logging\n",
        "DEVICE = \"cuda:0\" if torch.cuda.is_available() else \"cpu\"\n",
        "\n",
        "logging.basicConfig(stream=sys.stdout, level=logging.INFO)\n",
        "logging.getLogger().addHandler(logging.StreamHandler(stream=sys.stdout))\n",
        "from llama_index import SummaryIndex\n",
        "from llama_index.response.pprint_utils import pprint_response\n",
        "from pathlib import Path\n",
        "from llama_index import download_loader\n",
        "from llama_index.response.pprint_utils import pprint_response"
      ],
      "metadata": {
        "id": "BkewhIRGXrxX"
      },
      "execution_count": 1,
      "outputs": []
    },
    {
      "cell_type": "code",
      "source": [
        "def get_desired_llm():\n",
        "  # Function to load LLM\n",
        "  hf_token=\"Hugging Face Token\"\n",
        "  quantization_config = BitsAndBytesConfig(\n",
        "    load_in_4bit=True,\n",
        "    bnb_4bit_compute_dtype=torch.float16,\n",
        "    bnb_4bit_quant_type=\"nf4\",\n",
        "    bnb_4bit_use_double_quant=True,\n",
        ")\n",
        "  llm = HuggingFaceLLM(\n",
        "    model_name=\"meta-llama/Llama-2-7b-chat-hf\",\n",
        "    tokenizer_name=\"meta-llama/Llama-2-7b-chat-hf\",\n",
        "    query_wrapper_prompt=PromptTemplate(\" [INST] {query_str} [/INST] \"),\n",
        "    context_window=3900,\n",
        "    model_kwargs={\"token\": hf_token, \"quantization_config\": quantization_config},\n",
        "    tokenizer_kwargs={\"token\": hf_token},\n",
        "    device_map=\"auto\",\n",
        ")\n",
        "  return llm"
      ],
      "metadata": {
        "id": "S-UpO_r3YuMq"
      },
      "execution_count": 2,
      "outputs": []
    },
    {
      "cell_type": "code",
      "source": [
        "def get_desired_embedding():\n",
        "  #function to load Embedding\n",
        "  embed_model = HuggingFaceInstructEmbeddings(\n",
        "    model_name=\"hkunlp/instructor-large\", model_kwargs={\"device\": DEVICE}\n",
        ")\n",
        "  return embed_model"
      ],
      "metadata": {
        "id": "QTJB7PflZe-A"
      },
      "execution_count": 3,
      "outputs": []
    },
    {
      "cell_type": "code",
      "source": [
        "def get_csv_file():\n",
        "  #function to laod csv file\n",
        "  SimpleCSVReader = download_loader(\"SimpleCSVReader\")\n",
        "  loader = SimpleCSVReader(encoding=\"utf-8\")\n",
        "  documents = loader.load_data(file=Path('/content/data/countries of the world.csv'))\n",
        "  return documents\n",
        "\n"
      ],
      "metadata": {
        "id": "3P_Oy_sJbEYp"
      },
      "execution_count": 4,
      "outputs": []
    },
    {
      "cell_type": "code",
      "source": [
        "def create_chunk():\n",
        "\n",
        "  llm=get_desired_llm()\n",
        "  embed_model=get_desired_embedding()\n",
        "  documents=get_csv_file()\n",
        "  text_splitter = SentenceSplitter(chunk_size=1024, chunk_overlap=20) # using the default chunk_# values as they work just fine\n",
        "\n",
        "  # set context window\n",
        "  context_window = 4096\n",
        "  # set number of output tokens\n",
        "  num_output = 256\n",
        "  service_context = ServiceContext.from_defaults(llm=llm,\n",
        "                                                embed_model=embed_model,\n",
        "                                                text_splitter=text_splitter,\n",
        "                                                #  context_window=context_window,\n",
        "                                                #  num_output=num_output,\n",
        "                                                )\n",
        "  # # To make ephemeral client that is a short lasting client or an in-memory client\n",
        "# db = chromadb.EphemeralClient()\n",
        "\n",
        "  # initialize client, setting path to save data\n",
        "  db = chromadb.PersistentClient(path=\"./chroma_db\")\n",
        "\n",
        "  # create collection\n",
        "  chroma_collection = db.get_or_create_collection(\"csv_database\")\n",
        "\n",
        "  # assign chroma as the vector_store to the context\n",
        "  vector_store = ChromaVectorStore(chroma_collection=chroma_collection)\n",
        "  storage_context = StorageContext.from_defaults(vector_store=vector_store)\n",
        "\n",
        "  # create your index\n",
        "  vector_index = VectorStoreIndex.from_documents(\n",
        "      documents,\n",
        "      storage_context=storage_context,\n",
        "      service_context=service_context\n",
        "  )\n",
        "  return vector_index"
      ],
      "metadata": {
        "id": "XcBhTDoaaZsV"
      },
      "execution_count": 5,
      "outputs": []
    },
    {
      "cell_type": "code",
      "source": [
        "def create_serach_query():\n",
        "  #function to ask query from csv file\n",
        "\n",
        "# create a query engine and query\n",
        "\n",
        "  vector_index=create_chunk()\n",
        "  query_engine = vector_index.as_query_engine(response_mode=\"compact\")\n",
        "\n",
        "  response = query_engine.query(\"Can you bring some insights from the provided data ?\")\n",
        "\n",
        "  pprint_response(response, show_source=True)"
      ],
      "metadata": {
        "id": "UGl0d_JJcAO2"
      },
      "execution_count": 8,
      "outputs": []
    },
    {
      "cell_type": "code",
      "source": [
        "create_serach_query()"
      ],
      "metadata": {
        "colab": {
          "base_uri": "https://localhost:8080/",
          "height": 763,
          "referenced_widgets": [
            "7495bcf43b794b13a84c840d4156d169",
            "b51c6952dac04fe5837836e92576b85b",
            "d4e906b7cbab44459651c8f37700daff",
            "268f6080619f4f20b4328cea6adaa4ea",
            "f065947085d94312ac8eded8bacc2d47",
            "7876386b7e344dc19a07f49c22f87b0b",
            "ca4cec2e8e26477eb478bcb5356a2aac",
            "848c04ae9f3e48a09a39a59fb3bea5e3",
            "c33ba65881f2448481bdd14fef775265",
            "dba6efbf69da427886e6ed02077cb5ce",
            "31c0a184a75549ecae9dc23c6dfe3272"
          ]
        },
        "id": "cZXJmc8ucXjW",
        "outputId": "740c629e-ec6e-4dea-f9d9-a6dcaf4be3ca"
      },
      "execution_count": 9,
      "outputs": [
        {
          "output_type": "display_data",
          "data": {
            "text/plain": [
              "Loading checkpoint shards:   0%|          | 0/2 [00:00<?, ?it/s]"
            ],
            "application/vnd.jupyter.widget-view+json": {
              "version_major": 2,
              "version_minor": 0,
              "model_id": "7495bcf43b794b13a84c840d4156d169"
            }
          },
          "metadata": {}
        },
        {
          "output_type": "stream",
          "name": "stderr",
          "text": [
            "/usr/local/lib/python3.10/dist-packages/transformers/utils/hub.py:374: FutureWarning: The `use_auth_token` argument is deprecated and will be removed in v5 of Transformers. Please use `token` instead.\n",
            "  warnings.warn(\n"
          ]
        },
        {
          "output_type": "stream",
          "name": "stdout",
          "text": [
            "load INSTRUCTOR_Transformer\n",
            "max_seq_length  512\n",
            "Final Response: Sure, here are some insights that can be gained from\n",
            "the provided data:  1. Population: Afghanistan has the highest\n",
            "population among all countries (31056997), while Armenia has the\n",
            "lowest (39921833). 2. Area: Albania has the smallest area among all\n",
            "countries (28748 square miles), while Armenia has the largest (2766890\n",
            "square miles). 3. Population density: Afghanistan has the highest\n",
            "population density (48 people per square mile), while Armenia has the\n",
            "lowest (3 people per square mile). 4. Coastline: American Samoa has\n",
            "the highest coastline ratio (coastline length to area) among all\n",
            "countries (290.4%), while Armenia has the lowest (0%). 5. Net\n",
            "migration: Albania has the highest net migration rate (1.26%), while\n",
            "Armenia has the lowest (-0.358%). 6. Infant mortality: Afghanistan has\n",
            "the highest infant mortality rate (12.13 deaths per 1000 births),\n",
            "while Armenia has the lowest (0.22 deaths per\n",
            "______________________________________________________________________\n",
            "Source Node 1/2\n",
            "Node ID: bf333aa1-1f6c-4479-a62a-e091e3f85570\n",
            "Similarity: 0.7226235644602255\n",
            "Text: Country, Region, Population, Area (sq. mi.), Pop. Density (per\n",
            "sq. mi.), Coastline (coast/area ratio), Net migration, Infant\n",
            "mortality (per 1000 births), GDP ($ per capita), Literacy (%), Phones\n",
            "(per 1000), Arable (%), Crops (%), Other (%), Climate, Birthrate,\n",
            "Deathrate, Agriculture, Industry, Service Afghanistan , ASIA (EX. NEAR\n",
            "EAST)         ,...\n",
            "______________________________________________________________________\n",
            "Source Node 2/2\n",
            "Node ID: 4e901d38-da94-43a8-92eb-b6cce557d4fb\n",
            "Similarity: 0.7226235644602255\n",
            "Text: Country, Region, Population, Area (sq. mi.), Pop. Density (per\n",
            "sq. mi.), Coastline (coast/area ratio), Net migration, Infant\n",
            "mortality (per 1000 births), GDP ($ per capita), Literacy (%), Phones\n",
            "(per 1000), Arable (%), Crops (%), Other (%), Climate, Birthrate,\n",
            "Deathrate, Agriculture, Industry, Service Afghanistan , ASIA (EX. NEAR\n",
            "EAST)         ,...\n"
          ]
        }
      ]
    },
    {
      "cell_type": "code",
      "source": [],
      "metadata": {
        "id": "xR6Gn9qLcZPt"
      },
      "execution_count": null,
      "outputs": []
    }
  ]
}